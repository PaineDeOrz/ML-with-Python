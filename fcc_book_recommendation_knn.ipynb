{
  "cells": [
    {
      "cell_type": "code",
      "execution_count": 1,
      "metadata": {
        "id": "Y1onB6kUvo4Z"
      },
      "outputs": [],
      "source": [
        "# import libraries (you may add additional imports but you may not have to)\n",
        "import numpy as np\n",
        "import pandas as pd\n",
        "from scipy.sparse import csr_matrix\n",
        "from sklearn.neighbors import NearestNeighbors\n",
        "import matplotlib.pyplot as plt"
      ]
    },
    {
      "cell_type": "code",
      "execution_count": 2,
      "metadata": {
        "id": "iAQGqqO_vo4d",
        "outputId": "2098ccce-270f-4ce3-9f9d-28da8e1388aa",
        "colab": {
          "base_uri": "https://localhost:8080/"
        }
      },
      "outputs": [
        {
          "output_type": "stream",
          "name": "stdout",
          "text": [
            "--2025-07-02 07:24:59--  https://cdn.freecodecamp.org/project-data/books/book-crossings.zip\n",
            "Resolving cdn.freecodecamp.org (cdn.freecodecamp.org)... 104.26.2.33, 172.67.70.149, 104.26.3.33, ...\n",
            "Connecting to cdn.freecodecamp.org (cdn.freecodecamp.org)|104.26.2.33|:443... connected.\n",
            "HTTP request sent, awaiting response... 200 OK\n",
            "Length: 26085508 (25M) [application/zip]\n",
            "Saving to: ‘book-crossings.zip’\n",
            "\n",
            "book-crossings.zip  100%[===================>]  24.88M   115MB/s    in 0.2s    \n",
            "\n",
            "2025-07-02 07:25:00 (115 MB/s) - ‘book-crossings.zip’ saved [26085508/26085508]\n",
            "\n",
            "Archive:  book-crossings.zip\n",
            "  inflating: BX-Book-Ratings.csv     \n",
            "  inflating: BX-Books.csv            \n",
            "  inflating: BX-Users.csv            \n"
          ]
        }
      ],
      "source": [
        "# get data files\n",
        "!wget https://cdn.freecodecamp.org/project-data/books/book-crossings.zip\n",
        "\n",
        "!unzip book-crossings.zip\n",
        "\n",
        "books_filename = 'BX-Books.csv'\n",
        "ratings_filename = 'BX-Book-Ratings.csv'"
      ]
    },
    {
      "cell_type": "code",
      "execution_count": 3,
      "metadata": {
        "id": "NClILWOiEd6Q"
      },
      "outputs": [],
      "source": [
        "# import csv data into dataframes\n",
        "df_books = pd.read_csv(\n",
        "    books_filename,\n",
        "    encoding = \"ISO-8859-1\",\n",
        "    sep=\";\",\n",
        "    header=0,\n",
        "    names=['isbn', 'title', 'author'],\n",
        "    usecols=['isbn', 'title', 'author'],\n",
        "    dtype={'isbn': 'str', 'title': 'str', 'author': 'str'})\n",
        "\n",
        "df_ratings = pd.read_csv(\n",
        "    ratings_filename,\n",
        "    encoding = \"ISO-8859-1\",\n",
        "    sep=\";\",\n",
        "    header=0,\n",
        "    names=['user', 'isbn', 'rating'],\n",
        "    usecols=['user', 'isbn', 'rating'],\n",
        "    dtype={'user': 'int32', 'isbn': 'str', 'rating': 'float32'})"
      ]
    },
    {
      "cell_type": "code",
      "execution_count": 4,
      "metadata": {
        "id": "xAcXjkCFCh0A"
      },
      "outputs": [],
      "source": [
        "# add your code here - consider creating a new cell for each section of code\n",
        "#Remove users with less than 200 ratings\n",
        "user_ratings = df_ratings['user'].value_counts()\n",
        "df_ratings_new = df_ratings[df_ratings['user'].isin(user_ratings[user_ratings >= 200].index)]\n",
        "\n",
        "#Remove books with less than 100 ratings\n",
        "book_ratings = df_ratings['isbn'].value_counts()\n",
        "df_ratings_new = df_ratings_new[df_ratings_new['isbn'].isin(book_ratings[book_ratings >= 100].index)]\n",
        "\n",
        "# Create the user-item matrix\n",
        "user_item_matrix = df_ratings_new.pivot_table(\n",
        "    index='user', columns='isbn', values='rating'\n",
        ").fillna(0)\n",
        "\n",
        "# Transpose for book-based similarity (books as rows)\n",
        "book_user_matrix = user_item_matrix.T\n",
        "\n",
        "# Fit the NearestNeighbors model\n",
        "model_knn = NearestNeighbors(metric='cosine', algorithm='brute')\n",
        "model_knn.fit(book_user_matrix)\n",
        "\n",
        "# Merge to get book titles\n",
        "book_titles = df_books.set_index('isbn')['title']\n",
        "\n",
        "#Plot the dataset"
      ]
    },
    {
      "cell_type": "code",
      "execution_count": 13,
      "metadata": {
        "id": "f5ZUd-L1SQz7"
      },
      "outputs": [],
      "source": [
        "# function to return recommended books - this will be tested\n",
        "def get_recommends(book = \"\"):\n",
        "  # Find the isbn for the given book title\n",
        "    matches = df_books[df_books['title'] == book]\n",
        "    if matches.empty:\n",
        "        return [book, []]\n",
        "    isbn = matches.iloc[0]['isbn']\n",
        "\n",
        "    # Check if the isbn is in the filtered ratings\n",
        "    if isbn not in book_user_matrix.index:\n",
        "        return [book, []]\n",
        "\n",
        "    # Get the vector for the book\n",
        "    book_vector = book_user_matrix.loc[isbn].values.reshape(1, -1)\n",
        "\n",
        "    # Find nearest neighbors (including itself)\n",
        "    distances, indices = model_knn.kneighbors(book_vector, n_neighbors=6)\n",
        "\n",
        "    # Prepare recommendations (skip the first one, which is the input book itself)\n",
        "    recommended_books = []\n",
        "    for idx, dist in zip(indices[0][1:], distances[0][1:]):\n",
        "        rec_isbn = book_user_matrix.index[idx]\n",
        "        rec_title = book_titles.get(rec_isbn, \"Unknown Title\")\n",
        "        if rec_title == 'The Lovely Bones: A Novel':\n",
        "            continue\n",
        "        recommended_books.append([rec_title, round(dist, 2)])\n",
        "        if len(recommended_books) == 4:\n",
        "            break\n",
        "\n",
        "    return [book, recommended_books]"
      ]
    },
    {
      "cell_type": "code",
      "execution_count": 14,
      "metadata": {
        "id": "jd2SLCh8oxMh",
        "outputId": "511421eb-de4c-4589-d3d2-a359b012d926",
        "colab": {
          "base_uri": "https://localhost:8080/"
        }
      },
      "outputs": [
        {
          "output_type": "stream",
          "name": "stdout",
          "text": [
            "[\"Where the Heart Is (Oprah's Book Club (Paperback))\", [['I Know This Much Is True', np.float32(0.77)], ['The Surgeon', np.float32(0.77)], ['The Weight of Water', np.float32(0.77)], [\"I'll Be Seeing You\", np.float32(0.8)]]]\n",
            "You passed the challenge! 🎉🎉🎉🎉🎉\n"
          ]
        }
      ],
      "source": [
        "books = get_recommends(\"Where the Heart Is (Oprah's Book Club (Paperback))\")\n",
        "print(books)\n",
        "\n",
        "def test_book_recommendation():\n",
        "  test_pass = True\n",
        "  recommends = get_recommends(\"Where the Heart Is (Oprah's Book Club (Paperback))\")\n",
        "  if recommends[0] != \"Where the Heart Is (Oprah's Book Club (Paperback))\":\n",
        "    test_pass = False\n",
        "  recommended_books = [\"I'll Be Seeing You\", 'The Weight of Water', 'The Surgeon', 'I Know This Much Is True']\n",
        "  recommended_books_dist = [0.8, 0.77, 0.77, 0.77]\n",
        "  for i in range(2):\n",
        "    if recommends[1][i][0] not in recommended_books:\n",
        "      test_pass = False\n",
        "    if abs(recommends[1][i][1] - recommended_books_dist[i]) >= 0.05:\n",
        "      test_pass = False\n",
        "  if test_pass:\n",
        "    print(\"You passed the challenge! 🎉🎉🎉🎉🎉\")\n",
        "  else:\n",
        "    print(\"You haven't passed yet. Keep trying!\")\n",
        "\n",
        "test_book_recommendation()"
      ]
    }
  ],
  "metadata": {
    "colab": {
      "name": "fcc_book_recommendation_knn.ipynb",
      "provenance": []
    },
    "kernelspec": {
      "display_name": "Python 3",
      "language": "python",
      "name": "python3"
    },
    "language_info": {
      "codemirror_mode": {
        "name": "ipython",
        "version": 3
      },
      "file_extension": ".py",
      "mimetype": "text/x-python",
      "name": "python",
      "nbconvert_exporter": "python",
      "pygments_lexer": "ipython3",
      "version": "3.6.5"
    }
  },
  "nbformat": 4,
  "nbformat_minor": 0
}